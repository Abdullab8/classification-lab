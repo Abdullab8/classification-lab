{
 "cells": [
  {
   "cell_type": "markdown",
   "id": "41de1b0b-6d8c-4b64-a1bb-1a6239f9dd53",
   "metadata": {},
   "source": [
    "<img src=\"./assets/ga-logo.png\" style=\"float: left; margin: 20px; height: 55px\">\n",
    "\n",
    "# Lab: Classification: Predicting Left-Handedness from Psychological Factors\n",
    "\n",
    "---"
   ]
  },
  {
   "cell_type": "markdown",
   "id": "3184f0d1-fe56-494d-baa6-20f69a2bd5d3",
   "metadata": {},
   "source": [
    "One way to define the data science process is as follows:\n",
    "\n",
    "1. Define the problem.\n",
    "2. Obtain the data.\n",
    "3. Explore the data.\n",
    "4. Model the data.\n",
    "5. Evaluate the model.\n",
    "\n",
    "We'll walk through a full data science problem in this lab. \n",
    "\n",
    "---\n",
    "## Step 1: Define The Problem.\n",
    "\n",
    "You're currently a data scientist working at a university. A professor of psychology is attempting to study the relationship between personalities and left-handedness. They have tasked you with gathering evidence so that they may publish.\n",
    "\n",
    "As a data scientist, you know that any real data science problem must be **specific** and **conclusively answerable**. For example:\n",
    "- Bad data science problem: \"What is the link between obesity and blood pressure?\"\n",
    "    - This is vague and is not conclusively answerable. That is, two people might look at the conclusion and one may say \"Sure, the problem has been answered!\" and the other may say \"The problem has not yet been answered.\"\n",
    "- Good data science problem: \"Does an association exist between obesity and blood pressure?\"\n",
    "    - This is more specific and is conclusively answerable. The problem specifically is asking for a \"Yes\" or \"No\" answer. Based on that, two independent people should both be able to say either \"Yes, the problem has been answered\" or \"No, the problem has not yet been answered.\"\n",
    "- Excellent data science problem: \"As obesity increases, how does blood pressure change?\"\n",
    "    - This is very specific and is conclusively answerable. The problem specifically seeks to understand the effect of one variable on the other.\n",
    "\n",
    "### In the context of the left-handedness and personality example, what are three specific and conclusively answerable problems that you could answer using data science? \n",
    "\n",
    "> You might find it helpful to check out the codebook in the repo for some inspiration."
   ]
  },
  {
   "cell_type": "code",
   "execution_count": null,
   "id": "3342ac53-c92c-4af6-a781-a6c81693377c",
   "metadata": {},
   "outputs": [],
   "source": []
  },
  {
   "cell_type": "markdown",
   "id": "6bea50d5-6a4d-4948-9fe5-42d6cd6c5afb",
   "metadata": {},
   "source": [
    "---\n",
    "## Step 2: Obtain the data.\n",
    "\n",
    "### Read in the file titled \"data.csv\":\n",
    "> Hint: Despite being saved as a .csv file, you won't be able to simply `pd.read_csv()` this data!"
   ]
  },
  {
   "cell_type": "code",
   "execution_count": null,
   "id": "eb2a1f5d-32fb-4415-87de-3455cee07a7e",
   "metadata": {},
   "outputs": [],
   "source": [
    "# library imports"
   ]
  },
  {
   "cell_type": "code",
   "execution_count": null,
   "id": "23ce3fe6-3e08-45e1-8426-f6f4fdfe5f03",
   "metadata": {},
   "outputs": [],
   "source": []
  },
  {
   "cell_type": "markdown",
   "id": "fb928620-0569-4ca1-b11d-efb77951d278",
   "metadata": {},
   "source": [
    "---\n",
    "\n",
    "## Step 3: Explore the data.\n",
    "\n",
    "### Conduct background research:\n",
    "\n",
    "Domain knowledge is irreplaceable. Figuring out what information is relevant to a problem, or what data would be useful to gather, is a major part of any end-to-end data science project! For this lab, you'll be using a dataset that someone else has put together, rather than collecting the data yourself.\n",
    "\n",
    "Do some background research about personality and handedness. What features, if any, are likely to help you make good predictions? How well do you think you'll be able to model this? Write a few bullet points summarizing what you believe, and remember to cite external sources.\n",
    "\n",
    "You don't have to be exhaustive here. Do enough research to form an opinion, and then move on.\n",
    "\n",
    "> You'll be using the answers to Q1-Q44 for modeling; you can disregard other features, e.g. country, age, internet browser."
   ]
  },
  {
   "cell_type": "code",
   "execution_count": null,
   "id": "d01d0c1f-3b49-4b1e-ac15-a76b6d80c96b",
   "metadata": {},
   "outputs": [],
   "source": []
  },
  {
   "cell_type": "markdown",
   "id": "36a75853-6d9c-42c8-95ca-e0fdad19a17b",
   "metadata": {},
   "source": [
    "### Conduct exploratory data analysis on this dataset:\n",
    "\n",
    "If you haven't already, be sure to check out the codebook in the repo, as that will help in your EDA process.\n",
    "\n",
    "You might use this section to perform data cleaning if you find it to be necessary."
   ]
  },
  {
   "cell_type": "code",
   "execution_count": null,
   "id": "c4461bb5-9dd2-46c2-b1cc-dca2d92e2290",
   "metadata": {},
   "outputs": [],
   "source": []
  },
  {
   "cell_type": "code",
   "execution_count": null,
   "id": "35a60b82-c1ce-43cc-9a71-f4f2ede3f459",
   "metadata": {},
   "outputs": [],
   "source": []
  },
  {
   "cell_type": "markdown",
   "id": "fdfff1d8",
   "metadata": {},
   "source": []
  },
  {
   "cell_type": "markdown",
   "id": "e48958c0-5322-4ef4-a8dd-94dc681b21ff",
   "metadata": {},
   "source": [
    "### Short answer questions:\n",
    "\n",
    "In this lab you'll use K-nearest neighbors and logistic regression to model handedness based off of psychological factors. Answer the following related questions; your answers may be in bullet points.\n",
    "\n",
    "### 5. Suppose I wanted to use Q1 - Q44 to predict whether or not the person is left-handed. Would this be a classification or regression problem? Why?"
   ]
  },
  {
   "cell_type": "code",
   "execution_count": null,
   "id": "835eda01-c2b9-4526-94e1-60d7eb5bfab6",
   "metadata": {},
   "outputs": [],
   "source": []
  },
  {
   "cell_type": "markdown",
   "id": "a48dfc3c-42a1-46ca-b0ae-9e146737dbd6",
   "metadata": {},
   "source": [
    "### 6. We want to use $k$-nearest neighbors to predict whether or not a person is left-handed based on their responses to Q1 - Q44. Before doing that, however, you remember that it is often a good idea to standardize your variables. In general, why would we standardize our variables? Give an example of when we would standardize our variables."
   ]
  },
  {
   "cell_type": "code",
   "execution_count": null,
   "id": "7acef7f5-fde9-4167-a869-2c6d5370f3b2",
   "metadata": {},
   "outputs": [],
   "source": []
  },
  {
   "cell_type": "markdown",
   "id": "464f48e9-2a4a-45b4-aa97-03e0eca99848",
   "metadata": {},
   "source": [
    "### 7. Give an example of when we might not standardize our variables."
   ]
  },
  {
   "cell_type": "code",
   "execution_count": null,
   "id": "77f8a997-c499-461b-b255-d44141f484c6",
   "metadata": {},
   "outputs": [],
   "source": []
  },
  {
   "cell_type": "markdown",
   "id": "9507f57f-84e1-40e2-8b70-6e4ac89f8cf2",
   "metadata": {},
   "source": [
    "### 8. Based on your answers to 6 and 7, do you think we should standardize our predictor variables in this case? Why or why not?"
   ]
  },
  {
   "cell_type": "code",
   "execution_count": null,
   "id": "e63f22a8-2b45-4689-ab18-f6a84be73237",
   "metadata": {},
   "outputs": [],
   "source": []
  },
  {
   "cell_type": "markdown",
   "id": "8c3e59df-9635-40f8-aee5-247faba3d597",
   "metadata": {},
   "source": [
    "### 9. We want to use $k$-nearest neighbors to predict whether or not a person is left-handed. What munging/cleaning do we need to do to our $y$ variable in order to explicitly answer this question? Do it."
   ]
  },
  {
   "cell_type": "code",
   "execution_count": null,
   "id": "ebed3792-0022-4cb1-9875-39beff2dd141",
   "metadata": {},
   "outputs": [],
   "source": []
  },
  {
   "cell_type": "code",
   "execution_count": null,
   "id": "85833961-0000-4a05-8243-88303885f0f1",
   "metadata": {},
   "outputs": [],
   "source": []
  },
  {
   "cell_type": "code",
   "execution_count": null,
   "id": "8f83565a-ed32-485a-beda-1b86b1a540c8",
   "metadata": {},
   "outputs": [],
   "source": []
  },
  {
   "cell_type": "code",
   "execution_count": null,
   "id": "5c391ad6-a6ec-49e9-ab37-9566caf0a3fb",
   "metadata": {},
   "outputs": [],
   "source": []
  },
  {
   "cell_type": "markdown",
   "id": "491ccade-8ead-46de-9323-c448a16e14bd",
   "metadata": {},
   "source": [
    "---\n",
    "\n",
    "## Step 4 & 5 Modeling: $k$-nearest neighbors\n",
    "\n",
    "### Train-test split your data:\n",
    "\n",
    "Your explanatory variables should be all Q columns. \n",
    "- (Optional : You may use stratify = 'y')"
   ]
  },
  {
   "cell_type": "markdown",
   "id": "a08e2af2",
   "metadata": {},
   "source": [
    "I'll first create my `X` and `y` dataframes:"
   ]
  },
  {
   "cell_type": "code",
   "execution_count": null,
   "id": "61e21aeb-2fe3-41a8-ad18-05bd8dff8308",
   "metadata": {},
   "outputs": [],
   "source": []
  },
  {
   "cell_type": "code",
   "execution_count": null,
   "id": "916ffcc7",
   "metadata": {},
   "outputs": [],
   "source": []
  },
  {
   "cell_type": "code",
   "execution_count": null,
   "id": "27220993",
   "metadata": {},
   "outputs": [],
   "source": []
  },
  {
   "cell_type": "markdown",
   "id": "313fbf34",
   "metadata": {},
   "source": [
    "Being good data scientists, we know that we might not run just one type of model. We might run many different models and see which is best. \n",
    " - try k=3,5,15, and 25"
   ]
  },
  {
   "cell_type": "code",
   "execution_count": null,
   "id": "23046a02",
   "metadata": {},
   "outputs": [],
   "source": []
  },
  {
   "cell_type": "code",
   "execution_count": null,
   "id": "781acfb1",
   "metadata": {},
   "outputs": [],
   "source": []
  },
  {
   "cell_type": "markdown",
   "id": "c8ab5c3b-f92c-46db-999c-305712d30b80",
   "metadata": {},
   "source": [
    "### Evaluate your models:\n",
    "\n",
    "Evaluate each of your four models on the training and testing sets, and interpret the four scores. Are any of your models overfit or underfit? Do any of your models beat the baseline accuracy rate?"
   ]
  },
  {
   "cell_type": "code",
   "execution_count": null,
   "id": "0f886323-9ffa-4280-83a9-4bea44427c57",
   "metadata": {},
   "outputs": [],
   "source": []
  },
  {
   "cell_type": "code",
   "execution_count": null,
   "id": "91e96f1b-29e5-4a86-a250-3114a52e5291",
   "metadata": {},
   "outputs": [],
   "source": []
  },
  {
   "cell_type": "code",
   "execution_count": null,
   "id": "df2f8948-2f9a-48fc-a48c-ec53b45bf3a6",
   "metadata": {},
   "outputs": [],
   "source": []
  },
  {
   "cell_type": "markdown",
   "id": "f199cb0c-014a-479e-b8a1-0ac2606d81d9",
   "metadata": {},
   "source": [
    "### Evaluate your models:\n",
    "\n",
    "Evaluate each of your four models on the training and testing sets, and interpret the four scores. Are any of your models overfit or underfit? Do any of your models beat the baseline accuracy rate?"
   ]
  },
  {
   "cell_type": "code",
   "execution_count": null,
   "id": "b8876daa-01f8-41fb-a661-582ed8715a86",
   "metadata": {},
   "outputs": [],
   "source": []
  }
 ],
 "metadata": {
  "kernelspec": {
   "display_name": "Python 3 (ipykernel)",
   "language": "python",
   "name": "python3"
  },
  "language_info": {
   "codemirror_mode": {
    "name": "ipython",
    "version": 3
   },
   "file_extension": ".py",
   "mimetype": "text/x-python",
   "name": "python",
   "nbconvert_exporter": "python",
   "pygments_lexer": "ipython3",
   "version": "3.13.3"
  }
 },
 "nbformat": 4,
 "nbformat_minor": 5
}
